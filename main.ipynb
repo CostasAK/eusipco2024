{
 "cells": [
  {
   "cell_type": "markdown",
   "metadata": {},
   "source": [
    "# Transmit and Receive Sensor Selection Using the Multiplicity in the Virtual Array\n",
    "\n",
    "## Paper Abstract\n",
    "\n",
    "> The main focus of this paper is an active sensing application that involves selecting transmit and receive sensors to optimize the Cramér-Rao bound (CRB) on target parameters. Although the CRB is non-convex in the transmit and receive selection, we demonstrate that it is convex in the virtual array weight vector, which describes the multiplicity of the virtual array elements. Based on this finding, we propose a novel algorithm that optimizes the virtual array weight vector first and then finds a matching transceiver array. This greatly enhances the efficiency of the transmit and receive sensor selection problem."
   ]
  },
  {
   "cell_type": "markdown",
   "metadata": {},
   "source": [
    "## Preamble"
   ]
  },
  {
   "cell_type": "code",
   "execution_count": 1,
   "metadata": {},
   "outputs": [
    {
     "name": "stderr",
     "output_type": "stream",
     "text": [
      "Bad value in file '/home/costasak/projects/tudelft/eusipco2024/ieee-conf.mplstyle', line 22 ('savefig.pad_inches: layout'): Key savefig.pad_inches: Could not convert 'layout' to float\n"
     ]
    }
   ],
   "source": [
    "import numpy as np\n",
    "from functions import *\n",
    "from using_multiplicity import *\n",
    "from solveDirectly import *\n",
    "import plot\n",
    "from tqdm.contrib.itertools import product\n",
    "import pandas as pd\n",
    "from matplotlib import pyplot as plt\n",
    "import seaborn as sns\n",
    "import statistics\n",
    "\n",
    "# Seaborn Set-up\n",
    "sns.set_theme(style=\"darkgrid\")\n",
    "\n",
    "figsize = plot.style(\"ieee-conf\")\n",
    "\n",
    "np.set_printoptions(precision=2)\n"
   ]
  },
  {
   "cell_type": "markdown",
   "metadata": {},
   "source": [
    "## Multiplicity Example"
   ]
  },
  {
   "cell_type": "code",
   "execution_count": 2,
   "metadata": {},
   "outputs": [],
   "source": [
    "p_tx = np.array([1, 0, 1])\n",
    "p_rx = np.array([1, 0, 1, 0, 1, 1])\n",
    "\n",
    "tx_indices = np.squeeze(np.nonzero(p_tx))\n",
    "tx_blank_indices = np.squeeze(np.nonzero(1 - p_tx))\n",
    "rx_indices = np.squeeze(np.nonzero(p_rx))\n",
    "rx_blank_indices = np.squeeze(np.nonzero(1 - p_rx))\n",
    "\n",
    "multiplicity_example = np.convolve(p_tx, p_rx)\n",
    "mult_indices = np.squeeze(np.nonzero(multiplicity_example))\n",
    "mult_blank_indices = np.squeeze(np.where(multiplicity_example == 0))\n",
    "sum_array_length = len(multiplicity_example)\n",
    "\n",
    "number_of_tx = np.sum(p_tx)\n",
    "number_of_rx = np.sum(p_rx)\n",
    "\n",
    "maximum_multiplicity = min(number_of_tx, number_of_rx)\n"
   ]
  },
  {
   "cell_type": "markdown",
   "metadata": {},
   "source": [
    "### Fig. 2a"
   ]
  },
  {
   "cell_type": "code",
   "execution_count": 3,
   "metadata": {},
   "outputs": [
    {
     "data": {
      "image/png": "[encoded data removed]",
      "text/plain": [
       "<Figure size 348.761x81.397 with 1 Axes>"
      ]
     },
     "metadata": {},
     "output_type": "display_data"
    }
   ],
   "source": [
    "_, axs = plt.subplots(1, 1, figsize=figsize * [1, 0.35])\n",
    "\n",
    "x = np.arange(sum_array_length)\n",
    "\n",
    "axs.scatter(tx_indices, np.ones(number_of_tx) * 2, marker=\"o\", color=\"C0\")\n",
    "axs.scatter(\n",
    "    tx_blank_indices,\n",
    "    np.ones(len(p_tx) - number_of_tx) * 2,\n",
    "    marker=\"x\",\n",
    "    color=\"C0\",\n",
    "    alpha=0.5,\n",
    ")\n",
    "axs.scatter(rx_indices, np.ones(number_of_rx), marker=\"s\", color=\"C1\")\n",
    "axs.scatter(\n",
    "    rx_blank_indices,\n",
    "    np.ones(len(p_rx) - number_of_rx),\n",
    "    marker=\"x\",\n",
    "    color=\"C1\",\n",
    "    alpha=0.5,\n",
    ")\n",
    "axs.scatter(mult_indices, np.zeros(len(mult_indices)), marker=\"*\", color=\"C2\")\n",
    "axs.scatter(\n",
    "    mult_blank_indices,\n",
    "    np.zeros(sum_array_length - len(mult_indices)),\n",
    "    marker=\"x\",\n",
    "    color=\"C2\",\n",
    "    alpha=0.5,\n",
    ")\n",
    "axs.set_xticks(range(sum_array_length))\n",
    "axs.set_xlabel(\"Array Element Index\")\n",
    "axs.set_ylim([-0.5, 2.5])\n",
    "axs.set_yticks([0, 1, 2], [\"$\\Sigma$\", \"Rx\", \"Tx\"])\n",
    "\n",
    "plot.savefig(\"figures/sum_array_example.pdf\")\n"
   ]
  },
  {
   "cell_type": "markdown",
   "metadata": {},
   "source": [
    "### Fig. 2b"
   ]
  },
  {
   "cell_type": "code",
   "execution_count": 4,
   "metadata": {},
   "outputs": [
    {
     "data": {
      "image/png": "[encoded data removed]",
      "text/plain": [
       "<Figure size 348.761x139.538 with 1 Axes>"
      ]
     },
     "metadata": {},
     "output_type": "display_data"
    }
   ],
   "source": [
    "_, axs = plt.subplots(1, 1, figsize=figsize * np.array([1, 0.6]))\n",
    "\n",
    "axs.plot(\n",
    "    x,\n",
    "    np.concatenate(\n",
    "        [\n",
    "            np.arange(1, maximum_multiplicity),\n",
    "            maximum_multiplicity\n",
    "            * np.ones(sum_array_length + 2 - 2 * maximum_multiplicity),\n",
    "            np.flip(np.arange(1, maximum_multiplicity)),\n",
    "        ]\n",
    "    ),\n",
    "    \"C0-\",\n",
    "    label=\"Upper Bound\",\n",
    ")\n",
    "axs.stem(\n",
    "    x,\n",
    "    multiplicity_example,\n",
    "    linefmt=\"C2:\",\n",
    "    markerfmt=\"*\",\n",
    "    basefmt=\" \",\n",
    "    label=\"VAW\",\n",
    ")\n",
    "axs.set_xticks(range(sum_array_length))\n",
    "axs.set_xlabel(\"Sum Array Virtual Element Index\")\n",
    "axs.set_ylim([-0.2, 3])\n",
    "axs.set_yticks(range(maximum_multiplicity + 1))\n",
    "axs.set_ylabel(\"VAW\")\n",
    "axs.legend(ncol=2)\n",
    "\n",
    "plot.savefig(\"figures/multiplicity_example.pdf\")"
   ]
  },
  {
   "cell_type": "markdown",
   "metadata": {},
   "source": [
    "## Monte Carlo Simulations\n"
   ]
  },
  {
   "cell_type": "markdown",
   "metadata": {},
   "source": [
    "### CRB Histogram Example"
   ]
  },
  {
   "cell_type": "markdown",
   "metadata": {},
   "source": [
    "#### Load / Generate Dataframe"
   ]
  },
  {
   "cell_type": "code",
   "execution_count": 5,
   "metadata": {},
   "outputs": [],
   "source": [
    "number_of_trials = 100\n",
    "number_of_targets_list = [28]\n",
    "number_of_positions_list = [32]\n",
    "\n",
    "angle_noise_std = 0\n",
    "\n",
    "element_spacing = 0.5\n",
    "\n",
    "dataframe_name = \"histogram\"\n",
    "target_angles = []\n",
    "\n",
    "try:\n",
    "    monte_carlo_results_df = pd.read_pickle(\"dataframes/\" + dataframe_name + \".xz\")\n",
    "except:\n",
    "    monte_carlo_results_list = []\n",
    "    for number_of_positions, number_of_targets, trial in product(\n",
    "        number_of_positions_list, number_of_targets_list, range(number_of_trials)\n",
    "    ):\n",
    "        number_of_transmit_positions = number_of_positions\n",
    "        number_of_receive_positions = number_of_positions\n",
    "        number_of_transmitters = int(np.floor(number_of_positions / 2))\n",
    "        number_of_receivers = int(np.ceil(number_of_positions / 2))\n",
    "\n",
    "        target_angles = uniform_target_angles(\n",
    "            number_of_targets,\n",
    "            aperture=number_of_transmit_positions + number_of_receive_positions - 1,\n",
    "            noise_std=angle_noise_std,\n",
    "        )\n",
    "\n",
    "        sum_array_response = generateSumArrayResponse(\n",
    "            target_angles,\n",
    "            number_of_transmit_positions,\n",
    "            number_of_receive_positions,\n",
    "            element_spacing,\n",
    "        )\n",
    "\n",
    "        initialization = {\n",
    "            \"tx\": randomized_rounding(\n",
    "                np.ones(number_of_transmit_positions), number_of_transmitters\n",
    "            ),\n",
    "            \"rx\": randomized_rounding(\n",
    "                np.ones(number_of_receive_positions), number_of_receivers\n",
    "            ),\n",
    "        }\n",
    "\n",
    "        tx, rx, stats = solveTxRxDirectly(\n",
    "            sum_array_response,\n",
    "            number_of_transmitters,\n",
    "            number_of_receivers,\n",
    "            number_of_transmit_positions,\n",
    "            number_of_receive_positions,\n",
    "            roundIntermediates=False,\n",
    "            initialization=initialization,\n",
    "        )\n",
    "\n",
    "        monte_carlo_results_list.append(\n",
    "            {\n",
    "                \"Method\": \"Alg. 1\",\n",
    "                \"Tx\": tx,\n",
    "                \"Rx\": rx,\n",
    "                \"Target Angles\": target_angles,\n",
    "                \"Number of Transmit Positions\": number_of_transmit_positions,\n",
    "                \"Number of Receive Positions\": number_of_receive_positions,\n",
    "                \"Number of Transmitters\": number_of_transmitters,\n",
    "                \"Number of Receivers\": number_of_receivers,\n",
    "                \"Element Spacing\": element_spacing,\n",
    "                \"Initialization\": initialization,\n",
    "                \"Stats\": stats,\n",
    "            }\n",
    "        )\n",
    "\n",
    "        tx, rx, stats = solve_tx_and_rx_using_multiplicity(\n",
    "            sum_array_response,\n",
    "            number_of_transmitters,\n",
    "            number_of_receivers,\n",
    "            number_of_transmit_positions,\n",
    "            number_of_receive_positions,\n",
    "            weighted=False,\n",
    "            round_intermediates=False,\n",
    "            initialization=initialization,\n",
    "        )\n",
    "\n",
    "        monte_carlo_results_list.append(\n",
    "            {\n",
    "                \"Method\": \"Alg. 2\",\n",
    "                \"Weighted\": \"No\",\n",
    "                \"Tx\": tx,\n",
    "                \"Rx\": rx,\n",
    "                \"Target Angles\": target_angles,\n",
    "                \"Number of Transmit Positions\": number_of_transmit_positions,\n",
    "                \"Number of Receive Positions\": number_of_receive_positions,\n",
    "                \"Number of Transmitters\": number_of_transmitters,\n",
    "                \"Number of Receivers\": number_of_receivers,\n",
    "                \"Element Spacing\": element_spacing,\n",
    "                \"Initialization\": initialization,\n",
    "                \"Stats\": stats,\n",
    "            }\n",
    "        )\n",
    "\n",
    "    monte_carlo_results_df = pd.DataFrame(monte_carlo_results_list)\n",
    "    monte_carlo_results_df.to_pickle(\"dataframes/\" + dataframe_name + \".xz\", compression=\"xz\")"
   ]
  },
  {
   "cell_type": "markdown",
   "metadata": {},
   "source": [
    "#### Calculate CRB"
   ]
  },
  {
   "cell_type": "code",
   "execution_count": 6,
   "metadata": {},
   "outputs": [],
   "source": [
    "monte_carlo_results_df[\"Worst CRB\"] = monte_carlo_results_df.apply(worst_crb_df, axis=1)"
   ]
  },
  {
   "cell_type": "markdown",
   "metadata": {},
   "source": [
    "#### Fig. 3"
   ]
  },
  {
   "cell_type": "code",
   "execution_count": 7,
   "metadata": {},
   "outputs": [
    {
     "data": {
      "image/png": "[encoded data removed]",
      "text/plain": [
       "<Figure size 348.761x174.422 with 1 Axes>"
      ]
     },
     "metadata": {},
     "output_type": "display_data"
    }
   ],
   "source": [
    "_, axs = plt.subplots(1, 1, figsize=figsize * np.array([1, 0.75]))\n",
    "\n",
    "sns.histplot(\n",
    "    data=monte_carlo_results_df,\n",
    "    x=\"Worst CRB\",\n",
    "    bins=12,\n",
    "    hue=\"Method\",\n",
    "    multiple=\"dodge\",\n",
    "    shrink=0.875,\n",
    "    ax=axs,\n",
    ")\n",
    "\n",
    "axs.ticklabel_format(scilimits=[-1, 3])\n",
    "\n",
    "plot.savefig(\"figures/histplot_targets.pdf\")"
   ]
  },
  {
   "cell_type": "markdown",
   "metadata": {},
   "source": [
    "### Solve Time Plots"
   ]
  },
  {
   "cell_type": "code",
   "execution_count": 8,
   "metadata": {},
   "outputs": [],
   "source": [
    "number_of_trials = 20\n",
    "number_of_targets_list = np.round(np.linspace(63, 8, 20, endpoint=True)).astype(\"int\")\n",
    "number_of_positions_list = [32]\n",
    "\n",
    "angle_noise_std = 0\n",
    "\n",
    "element_spacing = 0.5\n",
    "\n",
    "dataframe_name = \"solvetime\"\n",
    "target_angles = []\n",
    "\n",
    "try:\n",
    "    monte_carlo_results_df = pd.read_pickle(\"dataframes/\" + dataframe_name + \".xz\")\n",
    "except:\n",
    "    monte_carlo_results_list = []\n",
    "    for number_of_positions, number_of_targets, trial in product(\n",
    "        number_of_positions_list, number_of_targets_list, range(number_of_trials)\n",
    "    ):\n",
    "        number_of_transmit_positions = number_of_positions\n",
    "        number_of_receive_positions = number_of_positions\n",
    "        number_of_transmitters = int(np.floor(number_of_positions / 2))\n",
    "        number_of_receivers = int(np.ceil(number_of_positions / 2))\n",
    "\n",
    "        target_angles = uniform_target_angles(\n",
    "            number_of_targets,\n",
    "            aperture=number_of_transmit_positions + number_of_receive_positions - 1,\n",
    "            noise_std=angle_noise_std,\n",
    "        )\n",
    "\n",
    "        sum_array_response = generateSumArrayResponse(\n",
    "            target_angles,\n",
    "            number_of_transmit_positions,\n",
    "            number_of_receive_positions,\n",
    "            element_spacing,\n",
    "        )\n",
    "\n",
    "        initialization = {\n",
    "            \"tx\": randomized_rounding(\n",
    "                np.ones(number_of_transmit_positions), number_of_transmitters\n",
    "            ),\n",
    "            \"rx\": randomized_rounding(\n",
    "                np.ones(number_of_receive_positions), number_of_receivers\n",
    "            ),\n",
    "        }\n",
    "\n",
    "        tx, rx, stats = solveTxRxDirectly(\n",
    "            sum_array_response,\n",
    "            number_of_transmitters,\n",
    "            number_of_receivers,\n",
    "            number_of_transmit_positions,\n",
    "            number_of_receive_positions,\n",
    "            roundIntermediates=False,\n",
    "            initialization=initialization,\n",
    "        )\n",
    "\n",
    "        monte_carlo_results_list.append(\n",
    "            {\n",
    "                \"Method\": \"Alg. 1\",\n",
    "                \"Tx\": tx,\n",
    "                \"Rx\": rx,\n",
    "                \"Target Angles\": target_angles,\n",
    "                \"Number of Transmit Positions\": number_of_transmit_positions,\n",
    "                \"Number of Receive Positions\": number_of_receive_positions,\n",
    "                \"Number of Transmitters\": number_of_transmitters,\n",
    "                \"Number of Receivers\": number_of_receivers,\n",
    "                \"Element Spacing\": element_spacing,\n",
    "                \"Initialization\": initialization,\n",
    "                \"Stats\": stats,\n",
    "            }\n",
    "        )\n",
    "\n",
    "        tx, rx, stats = solve_tx_and_rx_using_multiplicity(\n",
    "            sum_array_response,\n",
    "            number_of_transmitters,\n",
    "            number_of_receivers,\n",
    "            number_of_transmit_positions,\n",
    "            number_of_receive_positions,\n",
    "            weighted=False,\n",
    "            round_intermediates=False,\n",
    "            initialization=initialization,\n",
    "        )\n",
    "\n",
    "        monte_carlo_results_list.append(\n",
    "            {\n",
    "                \"Method\": \"Alg. 2\",\n",
    "                \"Weighted\": \"No\",\n",
    "                \"Tx\": tx,\n",
    "                \"Rx\": rx,\n",
    "                \"Target Angles\": target_angles,\n",
    "                \"Number of Transmit Positions\": number_of_transmit_positions,\n",
    "                \"Number of Receive Positions\": number_of_receive_positions,\n",
    "                \"Number of Transmitters\": number_of_transmitters,\n",
    "                \"Number of Receivers\": number_of_receivers,\n",
    "                \"Element Spacing\": element_spacing,\n",
    "                \"Initialization\": initialization,\n",
    "                \"Stats\": stats,\n",
    "            }\n",
    "        )\n",
    "\n",
    "    monte_carlo_results_df = pd.DataFrame(monte_carlo_results_list)\n",
    "    monte_carlo_results_df.to_pickle(\"dataframes/\" + dataframe_name + \".xz\", compression=\"xz\")"
   ]
  },
  {
   "cell_type": "markdown",
   "metadata": {},
   "source": [
    "#### Calculate Solve Time"
   ]
  },
  {
   "cell_type": "code",
   "execution_count": 9,
   "metadata": {},
   "outputs": [],
   "source": [
    "monte_carlo_results_df[\"Number of Targets\"] = monte_carlo_results_df[\n",
    "    \"Target Angles\"\n",
    "].apply(lambda x: len(x))\n",
    "\n",
    "monte_carlo_results_df[\"Solve Time\"] = monte_carlo_results_df[\"Stats\"].apply(\n",
    "    lambda x: x[\"total\"][\"solveTime\"]\n",
    ")\n",
    "\n",
    "monte_carlo_results_df[\"Iterations of Alternating Optimization\"] = (\n",
    "    monte_carlo_results_df[\"Stats\"].apply(\n",
    "        lambda x: x[\"total\"][\"alternatingDescentIterations\"]\n",
    "    )\n",
    ")\n",
    "\n",
    "monte_carlo_results_df[\"Average Time per Iteration\"] = monte_carlo_results_df[\n",
    "    \"Stats\"\n",
    "].apply(\n",
    "    lambda stats: statistics.fmean(\n",
    "        [\n",
    "            (\n",
    "                x[\"txStats\"][\"solverStats\"].solve_time\n",
    "                + x[\"rxStats\"][\"solverStats\"].solve_time\n",
    "            )\n",
    "            / 2\n",
    "            for x in stats[\"alternatingDescent\"]\n",
    "        ]\n",
    "    )\n",
    ")"
   ]
  },
  {
   "cell_type": "markdown",
   "metadata": {},
   "source": [
    "#### Fig. 4a"
   ]
  },
  {
   "cell_type": "code",
   "execution_count": 10,
   "metadata": {},
   "outputs": [
    {
     "data": {
      "image/png": "[encoded data removed]",
      "text/plain": [
       "<Figure size 223.207x206.981 with 1 Axes>"
      ]
     },
     "metadata": {},
     "output_type": "display_data"
    }
   ],
   "source": [
    "_, axs = plt.subplots(1, 1, figsize=figsize * np.array([0.64, 0.89]))\n",
    "\n",
    "sns.lineplot(\n",
    "    data=monte_carlo_results_df,\n",
    "    x=\"Number of Targets\",\n",
    "    y=\"Solve Time\",\n",
    "    hue=\"Method\",\n",
    "    style=\"Method\",\n",
    "    ax=axs,\n",
    ")\n",
    "\n",
    "axs.set_yscale(\"log\")\n",
    "\n",
    "h, _ = axs.get_legend_handles_labels()\n",
    "axs.legend(h, [\"Previously\", \"Proposed\"])\n",
    "\n",
    "plot.savefig(\"figures/solvetime_vs_number_of_targets.pdf\")"
   ]
  },
  {
   "cell_type": "markdown",
   "metadata": {},
   "source": [
    "#### Fig. 4b"
   ]
  },
  {
   "cell_type": "code",
   "execution_count": 11,
   "metadata": {},
   "outputs": [
    {
     "data": {
      "image/png": "[encoded data removed]",
      "text/plain": [
       "<Figure size 223.207x206.981 with 1 Axes>"
      ]
     },
     "metadata": {},
     "output_type": "display_data"
    }
   ],
   "source": [
    "_, axs = plt.subplots(1, 1, figsize=figsize * np.array([0.64, 0.89]))\n",
    "\n",
    "sns.lineplot(\n",
    "    data=monte_carlo_results_df,\n",
    "    x=\"Number of Targets\",\n",
    "    y=\"Iterations of Alternating Optimization\",\n",
    "    hue=\"Method\",\n",
    "    style=\"Method\",\n",
    "    ax=axs,\n",
    ")\n",
    "axs.set_ylim(bottom=0)\n",
    "axs.set_ylabel(\"Iterations\")\n",
    "\n",
    "h, _ = axs.get_legend_handles_labels()\n",
    "axs.legend(h, [\"Alg. 1\", \"Alg. 2\"])\n",
    "\n",
    "plot.savefig(\"figures/iterations_vs_number_of_targets.pdf\")"
   ]
  },
  {
   "cell_type": "markdown",
   "metadata": {},
   "source": [
    "#### Solve Time Per Iteration"
   ]
  },
  {
   "cell_type": "code",
   "execution_count": 12,
   "metadata": {},
   "outputs": [
    {
     "data": {
      "image/png": "[encoded data removed]",
      "text/plain": [
       "<Figure size 223.207x206.981 with 1 Axes>"
      ]
     },
     "metadata": {},
     "output_type": "display_data"
    }
   ],
   "source": [
    "_, axs = plt.subplots(1, 1, figsize=figsize * np.array([0.64, 0.89]))\n",
    "\n",
    "sns.lineplot(\n",
    "    data=monte_carlo_results_df,\n",
    "    x=\"Number of Targets\",\n",
    "    y=\"Average Time per Iteration\",\n",
    "    hue=\"Method\",\n",
    "    style=\"Method\",\n",
    "    ax=axs,\n",
    ")\n",
    "axs.set_yscale(\"log\")\n",
    "\n",
    "h, _ = axs.get_legend_handles_labels()\n",
    "axs.legend(h, [\"Alg. 1\", \"Alg. 2\"])\n",
    "\n",
    "plot.savefig(\"figures/average_time_per_iteration_vs_number_of_targets.pdf\")"
   ]
  }
 ],
 "metadata": {
  "kernelspec": {
   "display_name": "base",
   "language": "python",
   "name": "python3"
  },
  "language_info": {
   "codemirror_mode": {
    "name": "ipython",
    "version": 3
   },
   "file_extension": ".py",
   "mimetype": "text/x-python",
   "name": "python",
   "nbconvert_exporter": "python",
   "pygments_lexer": "ipython3",
   "version": "3.11.8"
  }
 },
 "nbformat": 4,
 "nbformat_minor": 2
}
